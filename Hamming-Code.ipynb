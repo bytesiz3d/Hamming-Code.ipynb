{
 "cells": [
  {
   "cell_type": "code",
   "execution_count": 1,
   "metadata": {},
   "outputs": [],
   "source": [
    "import numpy as np\n",
    "from scipy.optimize import fsolve\n",
    "import re\n",
    "from numpyarray_to_latex import to_ltx\n",
    "from IPython.display import display, Math\n",
    "\n",
    "%load_ext autoreload\n",
    "\n",
    "def disp(*mats, prefix=\"\", sep=r\"\\ \"):\n",
    "    total_str = prefix\n",
    "    for mat in mats:\n",
    "        mat_obj = globals()[mat]\n",
    "        ltx_str = to_ltx(mat_obj, fmt=\"{:.0f}\")\n",
    "        total_str = fr\"{total_str}{sep}{mat}\\ =\\ {ltx_str}\"\n",
    "\n",
    "    display(Math(total_str))\n",
    "\n",
    "\n",
    "def make_parity_and_order(n, k):\n",
    "    order = [0] * n\n",
    "\n",
    "    data_idx = 0\n",
    "    parity_exp = 0\n",
    "    parity_idx = k\n",
    "\n",
    "    for i in range(n):\n",
    "        if i+1 == 2 ** parity_exp:\n",
    "            order[i] = parity_idx\n",
    "            parity_idx += 1\n",
    "            parity_exp += 1\n",
    "        else:\n",
    "            order[i] = data_idx\n",
    "            data_idx += 1\n",
    "    \n",
    "    # Every number in [1, n] that is not a power of 2\n",
    "    P = np.arange(1, n+1, dtype=np.uint8)\n",
    "    P = P[np.log2(P) != np.floor(np.log2(P))]\n",
    "    P = np.unpackbits(P.reshape((k, 1)), axis=1, count=r, bitorder=\"little\")\n",
    "\n",
    "    return P, order"
   ]
  },
  {
   "cell_type": "code",
   "execution_count": 2,
   "metadata": {},
   "outputs": [
    {
     "data": {
      "text/latex": [
       "$\\displaystyle \n",
       "\n",
       "\\begin{align}\n",
       "2^r &\\geq k+r+1  \\\\\n",
       "f(x) &= 2^x-x-k-1 \\\\\n",
       "r &= \\lceil{x}\\rceil \\mid f(x) = 0,\\ x > 0 \\\\\n",
       "\\end{align}\n",
       " \\\\\n",
       "\\qquad \\\\\n",
       "k=4 \\qquad r=3 \\qquad n = k + r = 7\n",
       "$"
      ],
      "text/plain": [
       "<IPython.core.display.Math object>"
      ]
     },
     "metadata": {},
     "output_type": "display_data"
    }
   ],
   "source": [
    "# Information bits\n",
    "k = 4\n",
    "\n",
    "def parity_bits_fn(x):\n",
    "    return (2 ** x) - x - k - 1\n",
    "\n",
    "# Parity bits\n",
    "x = fsolve(parity_bits_fn, x0=k).round(6).item()\n",
    "r = int(np.ceil(x))\n",
    "\n",
    "# Codeword length\n",
    "n = k + r\n",
    "\n",
    "raw_str = r\"\"\"\n",
    "\\begin{align}\n",
    "2^r &\\geq k+r+1  \\\\\n",
    "f(x) &= 2^x-x-k-1 \\\\\n",
    "r &= \\lceil{x}\\rceil \\mid f(x) = 0,\\ x > 0 \\\\\n",
    "\\end{align}\n",
    "\"\"\"\n",
    "\n",
    "raw_str = rf\"\"\"\n",
    "{raw_str} \\\\\n",
    "\\qquad \\\\\n",
    "k={k} \\qquad r={r} \\qquad n = k + r = {n}\n",
    "\"\"\"\n",
    "display(Math(raw_str))"
   ]
  },
  {
   "cell_type": "code",
   "execution_count": 3,
   "metadata": {},
   "outputs": [
    {
     "data": {
      "text/latex": [
       "$\\displaystyle \\text{Initially}\\\\G\\ =\\ \\left(\n",
       "\\begin{array}{}\n",
       "  1  &  0  &  0  &  0  &  1  &  1  &  0 \\\\\n",
       "  0  &  1  &  0  &  0  &  1  &  0  &  1 \\\\\n",
       "  0  &  0  &  1  &  0  &  0  &  1  &  1 \\\\\n",
       "  0  &  0  &  0  &  1  &  1  &  1  &  1 \n",
       "\\end{array}\n",
       "\\right)\\\\H\\ =\\ \\left(\n",
       "\\begin{array}{}\n",
       "  1  &  1  &  0  &  1  &  1  &  0  &  0 \\\\\n",
       "  1  &  0  &  1  &  1  &  0  &  1  &  0 \\\\\n",
       "  0  &  1  &  1  &  1  &  0  &  0  &  1 \n",
       "\\end{array}\n",
       "\\right)\\\\D\\ =\\ \\left(\n",
       "\\begin{array}{}\n",
       "  1  &  0  &  0  &  0  &  0  &  0  &  0  &  0 \\\\\n",
       "  0  &  1  &  0  &  0  &  0  &  0  &  0  &  0 \\\\\n",
       "  0  &  0  &  1  &  0  &  0  &  0  &  0  &  0 \\\\\n",
       "  0  &  0  &  0  &  1  &  0  &  0  &  0  &  0 \n",
       "\\end{array}\n",
       "\\right)$"
      ],
      "text/plain": [
       "<IPython.core.display.Math object>"
      ]
     },
     "metadata": {},
     "output_type": "display_data"
    },
    {
     "data": {
      "text/latex": [
       "$\\displaystyle \\text{After reordering}\\\\G_t\\ =\\ \\left(\n",
       "\\begin{array}{}\n",
       "  1  &  1  &  0  &  1 \\\\\n",
       "  1  &  0  &  1  &  1 \\\\\n",
       "  1  &  0  &  0  &  0 \\\\\n",
       "  0  &  1  &  1  &  1 \\\\\n",
       "  0  &  1  &  0  &  0 \\\\\n",
       "  0  &  0  &  1  &  0 \\\\\n",
       "  0  &  0  &  0  &  1 \n",
       "\\end{array}\n",
       "\\right)\\\\H\\ =\\ \\left(\n",
       "\\begin{array}{}\n",
       "  1  &  0  &  1  &  0  &  1  &  0  &  1 \\\\\n",
       "  0  &  1  &  1  &  0  &  0  &  1  &  1 \\\\\n",
       "  0  &  0  &  0  &  1  &  1  &  1  &  1 \n",
       "\\end{array}\n",
       "\\right)\\\\D\\ =\\ \\left(\n",
       "\\begin{array}{}\n",
       "  0  &  0  &  1  &  0  &  0  &  0  &  0 \\\\\n",
       "  0  &  0  &  0  &  0  &  1  &  0  &  0 \\\\\n",
       "  0  &  0  &  0  &  0  &  0  &  1  &  0 \\\\\n",
       "  0  &  0  &  0  &  0  &  0  &  0  &  1 \n",
       "\\end{array}\n",
       "\\right)$"
      ],
      "text/plain": [
       "<IPython.core.display.Math object>"
      ]
     },
     "metadata": {},
     "output_type": "display_data"
    }
   ],
   "source": [
    "# Identity matrices\n",
    "I_k = np.eye(k)\n",
    "I_n_k = np.eye(n-k)\n",
    "\n",
    "# Parity equations\n",
    "# P (k, n-k)\n",
    "P, order = make_parity_and_order(n, k)\n",
    "\n",
    "# Generator matrix (k, n)\n",
    "G = np.hstack((I_k, P))\n",
    "\n",
    "# Decoder matrix (k, n)\n",
    "D = np.hstack((I_k, I_k * 0))\n",
    "\n",
    "# Parity-check matrix (n-k, n)\n",
    "H = np.hstack((P.T, I_n_k))\n",
    "disp(\"G\", \"H\", \"D\", prefix=r\"\\text{Initially}\", sep=r\"\\\\\")\n",
    "\n",
    "G = G[:, order]\n",
    "H = H[:, order]\n",
    "D = D[:, order]\n",
    "\n",
    "G_t = G.T\n",
    "disp(\"G_t\", \"H\", \"D\", prefix=r\"\\text{After reordering}\", sep=r\"\\\\\")"
   ]
  },
  {
   "cell_type": "code",
   "execution_count": 4,
   "metadata": {},
   "outputs": [
    {
     "data": {
      "text/latex": [
       "$\\displaystyle \\ w_s\\ =\\ \\left(\n",
       "\\begin{array}{}\n",
       "  0 \\\\\n",
       "  1 \\\\\n",
       "  0 \\\\\n",
       "  1 \n",
       "\\end{array}\n",
       "\\right)\\ c\\ =\\ \\left(\n",
       "\\begin{array}{}\n",
       "  0 \\\\\n",
       "  1 \\\\\n",
       "  0 \\\\\n",
       "  0 \\\\\n",
       "  1 \\\\\n",
       "  0 \\\\\n",
       "  1 \n",
       "\\end{array}\n",
       "\\right)$"
      ],
      "text/plain": [
       "<IPython.core.display.Math object>"
      ]
     },
     "metadata": {},
     "output_type": "display_data"
    }
   ],
   "source": [
    "# Input vector\n",
    "_ = np.array([np.random.randint(0, 1 << k)], dtype=np.uint8)\n",
    "# = np.array(ord('A'), dtype=np.uint8)\n",
    "w_s = np.unpackbits(_, count=k, bitorder=\"little\").reshape(k, 1)\n",
    "\n",
    "# Codeword\n",
    "c = G_t @ w_s % 2\n",
    "\n",
    "disp(\"w_s\", \"c\")"
   ]
  },
  {
   "cell_type": "code",
   "execution_count": 5,
   "metadata": {
    "scrolled": true
   },
   "outputs": [
    {
     "data": {
      "text/latex": [
       "$\\displaystyle \\ R\\ =\\ \\left(\n",
       "\\begin{array}{}\n",
       "  0 \\\\\n",
       "  1 \\\\\n",
       "  0 \\\\\n",
       "  1 \\\\\n",
       "  1 \\\\\n",
       "  0 \\\\\n",
       "  1 \n",
       "\\end{array}\n",
       "\\right)\\ z\\ =\\ \\left(\n",
       "\\begin{array}{}\n",
       "  0 \\\\\n",
       "  0 \\\\\n",
       "  1 \n",
       "\\end{array}\n",
       "\\right)$"
      ],
      "text/plain": [
       "<IPython.core.display.Math object>"
      ]
     },
     "metadata": {},
     "output_type": "display_data"
    },
    {
     "data": {
      "text/latex": [
       "$\\displaystyle \n",
       "\\text{Error in Bit #4} \\\\\n",
       "\\text{Syndrome detected error in Bit #4}\n",
       "$"
      ],
      "text/plain": [
       "<IPython.core.display.Math object>"
      ]
     },
     "metadata": {},
     "output_type": "display_data"
    },
    {
     "data": {
      "text/latex": [
       "$\\displaystyle \\ w_d\\ =\\ \\left(\n",
       "\\begin{array}{}\n",
       "  0 \\\\\n",
       "  1 \\\\\n",
       "  0 \\\\\n",
       "  1 \n",
       "\\end{array}\n",
       "\\right)$"
      ],
      "text/plain": [
       "<IPython.core.display.Math object>"
      ]
     },
     "metadata": {},
     "output_type": "display_data"
    }
   ],
   "source": [
    "# Received codeword\n",
    "R = np.copy(c).astype(\"u8\")\n",
    "modified_at = np.random.randint(0, n) + 1\n",
    "R[modified_at-1] ^= 1\n",
    "\n",
    "# Syndrome vector\n",
    "z = H @ R % 2\n",
    "disp(\"R\", \"z\")\n",
    "\n",
    "detected_at = np.packbits(z.astype(\"u8\"), bitorder='little').item()\n",
    "display(Math(rf\"\"\"\n",
    "\\text{{Error in Bit #{modified_at}}} \\\\\n",
    "\\text{{Syndrome detected error in Bit #{detected_at}}}\n",
    "\"\"\"))\n",
    "\n",
    "# Decoded vector\n",
    "R[detected_at-1] ^= 1\n",
    "w_d = D @ R\n",
    "\n",
    "disp(\"w_d\")"
   ]
  }
 ],
 "metadata": {
  "interpreter": {
   "hash": "ac59ebe37160ed0dfa835113d9b8498d9f09ceb179beaac4002f036b9467c963"
  },
  "kernelspec": {
   "display_name": "Python 3",
   "language": "python",
   "name": "python3"
  },
  "language_info": {
   "codemirror_mode": {
    "name": "ipython",
    "version": 3
   },
   "file_extension": ".py",
   "mimetype": "text/x-python",
   "name": "python",
   "nbconvert_exporter": "python",
   "pygments_lexer": "ipython3",
   "version": "3.8.3"
  }
 },
 "nbformat": 4,
 "nbformat_minor": 4
}
