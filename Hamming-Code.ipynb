{
 "cells": [
  {
   "cell_type": "code",
   "execution_count": null,
   "metadata": {},
   "outputs": [],
   "source": [
    "import numpy as np\n",
    "from scipy.optimize import fsolve\n",
    "import re\n",
    "from numpyarray_to_latex import to_ltx\n",
    "from IPython.display import display, Math\n",
    "\n",
    "%load_ext autoreload\n",
    "\n",
    "def disp(*mats, prefix=\"\"):\n",
    "    total_str = prefix\n",
    "    for mat in mats:\n",
    "        mat_obj = globals()[mat]\n",
    "        ltx_str = to_ltx(mat_obj, fmt=\"{:.0f}\")\n",
    "        total_str = fr\"{total_str}\\ {mat}\\ =\\ {ltx_str}\"\n",
    "\n",
    "    display(Math(total_str))\n",
    "\n",
    "\n",
    "def make_parity_and_order(n, k):\n",
    "    order = [0] * n\n",
    "\n",
    "    data_idx = 0\n",
    "    parity_exp = 0\n",
    "    parity_idx = k\n",
    "\n",
    "    for i in range(n):\n",
    "        if i+1 == 2 ** parity_exp:\n",
    "            order[i] = parity_idx\n",
    "            parity_idx += 1\n",
    "            parity_exp += 1\n",
    "        else:\n",
    "            order[i] = data_idx\n",
    "            data_idx += 1\n",
    "    \n",
    "    # Every number up to [1, n] that is not a power of 2\n",
    "    P = np.arange(1, n+1, dtype=np.uint8)\n",
    "    P = P[np.log2(P) != np.floor(np.log2(P))]\n",
    "    P = np.unpackbits(P.reshape((k, 1)), axis=1, count=r, bitorder=\"little\")\n",
    "\n",
    "    return P, order"
   ]
  },
  {
   "cell_type": "markdown",
   "metadata": {},
   "source": [
    "$$\n",
    "\\begin{split}\n",
    "2^r &\\geq k+r+1  \\\\\n",
    "f(x) &= 2^x-x-k-1 \\\\\n",
    "r &= \\lceil{x}\\rceil \\mid f(x) = 0,\\ x > 0 \\\\\n",
    "\\end{split}\n",
    "$$"
   ]
  },
  {
   "cell_type": "code",
   "execution_count": 92,
   "metadata": {},
   "outputs": [
    {
     "data": {
      "text/latex": [
       "$\\displaystyle k=4\\\\r=3\\\\n=7$"
      ],
      "text/plain": [
       "<IPython.core.display.Math object>"
      ]
     },
     "metadata": {},
     "output_type": "display_data"
    }
   ],
   "source": [
    "# Information bits\n",
    "k = 4\n",
    "\n",
    "def parity_bits_fn(x):\n",
    "    return (2 ** x) - x - k - 1\n",
    "\n",
    "# Parity bits\n",
    "x = fsolve(parity_bits_fn, x0=k).round(6).item()\n",
    "r = int(np.ceil(x))\n",
    "\n",
    "# Codeword length\n",
    "n = k + r\n",
    "\n",
    "display(Math(rf\"k={k}\\\\r={r}\\\\n={n}\"))"
   ]
  },
  {
   "cell_type": "code",
   "execution_count": 93,
   "metadata": {},
   "outputs": [
    {
     "data": {
      "text/latex": [
       "$\\displaystyle \\ G_t\\ =\\ \\left(\n",
       "\\begin{array}{}\n",
       "  1  &  1  &  0  &  1 \\\\\n",
       "  1  &  0  &  1  &  1 \\\\\n",
       "  1  &  0  &  0  &  0 \\\\\n",
       "  0  &  1  &  1  &  1 \\\\\n",
       "  0  &  1  &  0  &  0 \\\\\n",
       "  0  &  0  &  1  &  0 \\\\\n",
       "  0  &  0  &  0  &  1 \n",
       "\\end{array}\n",
       "\\right)\\ H\\ =\\ \\left(\n",
       "\\begin{array}{}\n",
       "  1  &  0  &  1  &  0  &  1  &  0  &  1 \\\\\n",
       "  0  &  1  &  1  &  0  &  0  &  1  &  1 \\\\\n",
       "  0  &  0  &  0  &  1  &  1  &  1  &  1 \n",
       "\\end{array}\n",
       "\\right)$"
      ],
      "text/plain": [
       "<IPython.core.display.Math object>"
      ]
     },
     "metadata": {},
     "output_type": "display_data"
    }
   ],
   "source": [
    "# Identity matrices\n",
    "I_k = np.eye(k)\n",
    "I_n_k = np.eye(n-k)\n",
    "\n",
    "# Parity equations\n",
    "P, order = make_parity_and_order(n, k)\n",
    "\n",
    "# Generator matrix (k * n)\n",
    "G = np.hstack((I_k, P))\n",
    "\n",
    "# Parity-check matrix (k-k * n)\n",
    "H = np.hstack((P.T, I_n_k))\n",
    "\n",
    "G = G[:, order]\n",
    "H = H[:, order]\n",
    "\n",
    "G_t = G.T\n",
    "disp(\"G_t\", \"H\")"
   ]
  },
  {
   "cell_type": "code",
   "execution_count": 94,
   "metadata": {},
   "outputs": [
    {
     "data": {
      "text/latex": [
       "$\\displaystyle \\ w\\ =\\ \\left(\n",
       "\\begin{array}{}\n",
       "  0 \\\\\n",
       "  0 \\\\\n",
       "  1 \\\\\n",
       "  0 \n",
       "\\end{array}\n",
       "\\right)\\ c\\ =\\ \\left(\n",
       "\\begin{array}{}\n",
       "  0 \\\\\n",
       "  1 \\\\\n",
       "  0 \\\\\n",
       "  1 \\\\\n",
       "  0 \\\\\n",
       "  1 \\\\\n",
       "  0 \n",
       "\\end{array}\n",
       "\\right)$"
      ],
      "text/plain": [
       "<IPython.core.display.Math object>"
      ]
     },
     "metadata": {},
     "output_type": "display_data"
    }
   ],
   "source": [
    "# Input vector\n",
    "_ = np.array([np.random.randint(0, 1 << k)], dtype=np.uint8)\n",
    "w = np.unpackbits(_, count=k, bitorder=\"little\").reshape(k, 1)\n",
    "\n",
    "# Codeword\n",
    "c = G_t @ w % 2\n",
    "\n",
    "disp(\"w\", \"c\")"
   ]
  },
  {
   "cell_type": "code",
   "execution_count": 95,
   "metadata": {},
   "outputs": [
    {
     "data": {
      "text/latex": [
       "$\\displaystyle \\ r\\ =\\ \\left(\n",
       "\\begin{array}{}\n",
       "  0 \\\\\n",
       "  1 \\\\\n",
       "  0 \\\\\n",
       "  0 \\\\\n",
       "  0 \\\\\n",
       "  1 \\\\\n",
       "  0 \n",
       "\\end{array}\n",
       "\\right)\\ z\\ =\\ \\left(\n",
       "\\begin{array}{}\n",
       "  0 \\\\\n",
       "  0 \\\\\n",
       "  1 \n",
       "\\end{array}\n",
       "\\right)$"
      ],
      "text/plain": [
       "<IPython.core.display.Math object>"
      ]
     },
     "metadata": {},
     "output_type": "display_data"
    },
    {
     "name": "stdout",
     "output_type": "stream",
     "text": [
      "Error in Bit #4\n",
      "Syndrome detected error in Bit #4\n"
     ]
    }
   ],
   "source": [
    "\n",
    "loc = np.random.randint(0, n) + 1\n",
    "r = np.copy(c).astype(\"u8\")\n",
    "r[loc-1] ^= 1\n",
    "\n",
    "# Syndrome vector\n",
    "z = H @ r % 2\n",
    "disp(\"r\", \"z\")\n",
    "\n",
    "print(f\"Error in Bit #{loc}\")\n",
    "detected_loc = np.packbits(z.astype(\"u8\"), bitorder='little').item()\n",
    "print(f\"Syndrome detected error in Bit #{detected_loc}\")"
   ]
  }
 ],
 "metadata": {
  "kernelspec": {
   "display_name": "Python 3",
   "language": "python",
   "name": "python3"
  },
  "language_info": {
   "codemirror_mode": {
    "name": "ipython",
    "version": 3
   },
   "file_extension": ".py",
   "mimetype": "text/x-python",
   "name": "python",
   "nbconvert_exporter": "python",
   "pygments_lexer": "ipython3",
   "version": "3.8.3"
  }
 },
 "nbformat": 4,
 "nbformat_minor": 4
}
